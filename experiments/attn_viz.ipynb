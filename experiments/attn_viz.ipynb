{
 "cells": [
  {
   "cell_type": "code",
   "execution_count": null,
   "id": "e24cea1c",
   "metadata": {},
   "outputs": [
    {
     "ename": "ImportError",
     "evalue": "cannot import name 'display' from 'IPython.core.display' (/opt/conda/envs/py_3.12/lib/python3.12/site-packages/IPython/core/display.py)",
     "output_type": "error",
     "traceback": [
      "\u001b[31m---------------------------------------------------------------------------\u001b[39m",
      "\u001b[31mImportError\u001b[39m                               Traceback (most recent call last)",
      "\u001b[36mCell\u001b[39m\u001b[36m \u001b[39m\u001b[32mIn[2]\u001b[39m\u001b[32m, line 10\u001b[39m\n\u001b[32m      8\u001b[39m \u001b[38;5;28;01mimport\u001b[39;00m \u001b[34;01mtorch\u001b[39;00m\n\u001b[32m      9\u001b[39m \u001b[38;5;28;01mimport\u001b[39;00m \u001b[34;01mos\u001b[39;00m\n\u001b[32m---> \u001b[39m\u001b[32m10\u001b[39m \u001b[38;5;28;01mfrom\u001b[39;00m \u001b[34;01mbertviz\u001b[39;00m \u001b[38;5;28;01mimport\u001b[39;00m head_view\n\u001b[32m     13\u001b[39m initialize(config_path=\u001b[33m\"\u001b[39m\u001b[33m../configs\u001b[39m\u001b[33m\"\u001b[39m)\n\u001b[32m     14\u001b[39m cfg = compose(\u001b[33m\"\u001b[39m\u001b[33minitial_train_home\u001b[39m\u001b[33m\"\u001b[39m)\n",
      "\u001b[36mFile \u001b[39m\u001b[32m/opt/conda/envs/py_3.12/lib/python3.12/site-packages/bertviz/__init__.py:1\u001b[39m\n\u001b[32m----> \u001b[39m\u001b[32m1\u001b[39m \u001b[38;5;28;01mfrom\u001b[39;00m \u001b[34;01m.\u001b[39;00m\u001b[34;01mhead_view\u001b[39;00m \u001b[38;5;28;01mimport\u001b[39;00m head_view\n\u001b[32m      2\u001b[39m \u001b[38;5;28;01mfrom\u001b[39;00m \u001b[34;01m.\u001b[39;00m\u001b[34;01mmodel_view\u001b[39;00m \u001b[38;5;28;01mimport\u001b[39;00m model_view\n",
      "\u001b[36mFile \u001b[39m\u001b[32m/opt/conda/envs/py_3.12/lib/python3.12/site-packages/bertviz/head_view.py:5\u001b[39m\n\u001b[32m      2\u001b[39m \u001b[38;5;28;01mimport\u001b[39;00m \u001b[34;01mos\u001b[39;00m\n\u001b[32m      3\u001b[39m \u001b[38;5;28;01mimport\u001b[39;00m \u001b[34;01muuid\u001b[39;00m\n\u001b[32m----> \u001b[39m\u001b[32m5\u001b[39m \u001b[38;5;28;01mfrom\u001b[39;00m \u001b[34;01mIPython\u001b[39;00m\u001b[34;01m.\u001b[39;00m\u001b[34;01mcore\u001b[39;00m\u001b[34;01m.\u001b[39;00m\u001b[34;01mdisplay\u001b[39;00m \u001b[38;5;28;01mimport\u001b[39;00m display, HTML, Javascript\n\u001b[32m      7\u001b[39m \u001b[38;5;28;01mfrom\u001b[39;00m \u001b[34;01m.\u001b[39;00m\u001b[34;01mutil\u001b[39;00m \u001b[38;5;28;01mimport\u001b[39;00m format_special_chars, format_attention, num_layers\n\u001b[32m     10\u001b[39m \u001b[38;5;28;01mdef\u001b[39;00m \u001b[34mhead_view\u001b[39m(\n\u001b[32m     11\u001b[39m         attention=\u001b[38;5;28;01mNone\u001b[39;00m,\n\u001b[32m     12\u001b[39m         tokens=\u001b[38;5;28;01mNone\u001b[39;00m,\n\u001b[32m   (...)\u001b[39m\u001b[32m     23\u001b[39m         html_action=\u001b[33m'\u001b[39m\u001b[33mview\u001b[39m\u001b[33m'\u001b[39m\n\u001b[32m     24\u001b[39m ):\n",
      "\u001b[31mImportError\u001b[39m: cannot import name 'display' from 'IPython.core.display' (/opt/conda/envs/py_3.12/lib/python3.12/site-packages/IPython/core/display.py)"
     ]
    }
   ],
   "source": [
    "import sys\n",
    "\n",
    "sys.path.append(\"../\")\n",
    "\n",
    "from model.slt import SLTModel\n",
    "from data.ph14t import Ph14TDataModule\n",
    "from hydra import compose, initialize\n",
    "import torch\n",
    "import os\n",
    "from bertviz import head_view\n",
    "\n",
    "\n",
    "initialize(config_path=\"../configs\")\n",
    "cfg = compose(\"initial_train_home\")\n",
    "data_module = Ph14TDataModule(cfg)\n",
    "data_module.setup()\n",
    "model = SLTModel.load_from_checkpoint(\n",
    "    \"/root/shared-data/sign_language_translation_llm/outputs/epoch=epoch=55-wer=val_generate_accu=0.76.ckpt\",\n",
    "    cfg=cfg,\n",
    ").cuda()\n",
    "loader = data_module.train_dataloader()\n",
    "\n",
    "handle = model.handles[\"vtg_handle\"]\n",
    "for batch in loader:\n",
    "    with torch.no_grad():\n",
    "        ids, video, video_length, text = handle.dispatch_batch(batch, model.device)\n",
    "        text_ids, labels, text_length = handle.tokenize(\n",
    "            text, model.tokenizer, model.device\n",
    "        )\n",
    "        _, atten = handle._forward(model, video, video_length, text_ids, text_length)\n",
    "    break\n",
    "\n",
    "seq_len = atten[0].shape[-1]\n",
    "tokens = [f\"[{i}]\" for i in range(seq_len)]  # 比如：[\"[0]\", \"[1]\", ..., \"[11]\"]\n",
    "\n"
   ]
  }
 ],
 "metadata": {
  "kernelspec": {
   "display_name": "py_3.12",
   "language": "python",
   "name": "python3"
  },
  "language_info": {
   "codemirror_mode": {
    "name": "ipython",
    "version": 3
   },
   "file_extension": ".py",
   "mimetype": "text/x-python",
   "name": "python",
   "nbconvert_exporter": "python",
   "pygments_lexer": "ipython3",
   "version": "3.12.9"
  }
 },
 "nbformat": 4,
 "nbformat_minor": 5
}
