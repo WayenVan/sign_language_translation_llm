{
 "cells": [
  {
   "cell_type": "code",
   "execution_count": null,
   "id": "9ae70aef",
   "metadata": {
    "vscode": {
     "languageId": "plaintext"
    }
   },
   "outputs": [],
   "source": [
    "import polars as pl\n",
    "from huggingface_hub import login\n",
    "from transformers.models.gemma3.processing_gemma3 import Gemma3Processor\n",
    "from transformers import AutoTokenizer\n",
    "from numpy \n",
    "\n"
   ]
  },
  {
   "cell_type": "code",
   "execution_count": null,
   "id": "2659cf13",
   "metadata": {},
   "outputs": [],
   "source": []
  }
 ],
 "metadata": {
  "language_info": {
   "name": "python"
  }
 },
 "nbformat": 4,
 "nbformat_minor": 5
}
